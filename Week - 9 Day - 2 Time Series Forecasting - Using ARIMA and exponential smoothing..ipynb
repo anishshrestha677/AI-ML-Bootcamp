{
 "cells": [
  {
   "cell_type": "markdown",
   "id": "e96ebf18",
   "metadata": {},
   "source": [
    "<h1 style=\" background-color: #002147; color: White; padding: 30px; text-align:center\"> Time Series Forecasting: Using ARIMA and Exponential Smoothing. </h1>"
   ]
  },
  {
   "cell_type": "markdown",
   "id": "113ed68d",
   "metadata": {},
   "source": [
    "- Time series forecasting is a powerful tool for predicting future values in a time-ordered data set. \n",
    "- Two popular approaches for time series forecasting are \n",
    "    - ARIMA (AutoRegressive Integrated Moving Average) and \n",
    "    - ETS (Exponential Smoothing)"
   ]
  },
  {
   "cell_type": "markdown",
   "id": "a691986c",
   "metadata": {},
   "source": [
    "<div style=\"background-color: lightgreen; color: black; padding: 10px;\">\n",
    "    <h3>ARIMA - AutoRegressive Integrated Moving Average\n",
    "</h3> </div>"
   ]
  },
  {
   "cell_type": "markdown",
   "id": "d27dabd7",
   "metadata": {},
   "source": [
    "- ARIMA is a statistical model used to describe time series data and forecast future points by \n",
    "    - examining its own past values (autoregressive) and \n",
    "    - the errors (moving average). \n",
    "- The model can capture various patterns in time series data such as trends and seasonality."
   ]
  },
  {
   "cell_type": "markdown",
   "id": "9f1410a7",
   "metadata": {},
   "source": [
    "<div style=\"background-color: lightblue; color: black; padding: 10px;\">\n",
    "    <h3>Key components of ARIMA:\n",
    "</h3> </div>"
   ]
  },
  {
   "cell_type": "markdown",
   "id": "5ee18c5b",
   "metadata": {},
   "source": [
    "- AR (Autoregressive): The relationship between a value and its lagged (previous) values.\n",
    "- I (Integrated): Differencing the data to remove trends and make it stationary.\n",
    "- MA (Moving Average): The relationship between a value and past forecast errors."
   ]
  },
  {
   "cell_type": "markdown",
   "id": "1e46fd7a",
   "metadata": {},
   "source": [
    "<div style=\"background-color: lightblue; color: black; padding: 10px;\">\n",
    "    <h3>ARIMA is defined by three parameters: (p, d, q)\n",
    "</h3> </div>"
   ]
  },
  {
   "cell_type": "markdown",
   "id": "28c1cd47",
   "metadata": {},
   "source": [
    "- p: Number of autoregressive terms (AR part)\n",
    "- d: Degree of differencing (to make the data stationary)\n",
    "- q: Number of lagged forecast errors in the prediction (MA part)"
   ]
  },
  {
   "cell_type": "markdown",
   "id": "218fdd54",
   "metadata": {},
   "source": [
    "<div style=\"background-color: lightblue; color: black; padding: 10px;\">\n",
    "    <h3>How to Use ARIMA for Forecasting\n",
    "</h3> </div>"
   ]
  },
  {
   "cell_type": "markdown",
   "id": "fecf9553",
   "metadata": {},
   "source": [
    "- Stationarity Check: Check if the data is stationary (constant mean and variance) using methods like the Augmented Dickey-Fuller (ADF) test. If not, use differencing to make it stationary.\n",
    "- ARIMA Parameter Selection: Determine the values of p, d, and q using methods like ACF (AutoCorrelation Function) and PACF (Partial AutoCorrelation Function).\n",
    "- Fit the Model: Once you have the parameters, fit the ARIMA model to your data.\n",
    "- Forecasting: Use the fitted ARIMA model to forecast future values."
   ]
  },
  {
   "cell_type": "code",
   "execution_count": null,
   "id": "57649d18",
   "metadata": {},
   "outputs": [],
   "source": []
  }
 ],
 "metadata": {
  "kernelspec": {
   "display_name": "Python 3 (ipykernel)",
   "language": "python",
   "name": "python3"
  },
  "language_info": {
   "codemirror_mode": {
    "name": "ipython",
    "version": 3
   },
   "file_extension": ".py",
   "mimetype": "text/x-python",
   "name": "python",
   "nbconvert_exporter": "python",
   "pygments_lexer": "ipython3",
   "version": "3.11.5"
  }
 },
 "nbformat": 4,
 "nbformat_minor": 5
}
