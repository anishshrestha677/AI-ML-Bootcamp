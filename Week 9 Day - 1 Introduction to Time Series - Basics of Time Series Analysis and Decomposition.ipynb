{
 "cells": [
  {
   "cell_type": "markdown",
   "id": "843ca425",
   "metadata": {},
   "source": [
    "This course introduces time series analysis, focusing on time series decomposition and forecasting. Students will learn to apply statistical and deep learning methods for predicting future trends in time series data."
   ]
  },
  {
   "cell_type": "markdown",
   "id": "52a3c497",
   "metadata": {},
   "source": [
    "<h1 style=\" background-color: #002147; color: White; padding: 30px; text-align:center\"> Introduction to Time Series: Basics of Time Series Analysis and Decomposition </h1>"
   ]
  },
  {
   "cell_type": "markdown",
   "id": "6a701b3b",
   "metadata": {},
   "source": [
    "<div style=\"background-color: lightgreen; color: black; padding: 10px;\">\n",
    "    <h4>Introduction\n",
    "</h4> </div>"
   ]
  },
  {
   "cell_type": "markdown",
   "id": "5e558917",
   "metadata": {},
   "source": [
    "- A time series is a sequence of data points indexed in time order, typically recorded at regular intervals (e.g., daily, weekly, or monthly). \n",
    "- Time series data is essential for analyzing how a particular variable changes over time, and it can be used for various purposes like forecasting future values, detecting patterns, or understanding trends."
   ]
  },
  {
   "cell_type": "markdown",
   "id": "e8b82540",
   "metadata": {},
   "source": [
    "<div style=\"background-color: lightblue; color: black; padding: 10px;\">\n",
    "    <h4>1. What is Time Series Analysis?\n",
    "</h4> </div>"
   ]
  },
  {
   "cell_type": "markdown",
   "id": "f7687788",
   "metadata": {},
   "source": [
    "- Time series analysis involves studying the behavior and structure of data over time. \n",
    "- It helps in identifying patterns such as trends, seasonal effects, cycles, and noise. \n",
    "- The primary goal is to model the underlying data structure to make predictions, inform decisions, or gain insights into the dynamics of the system being studied."
   ]
  },
  {
   "cell_type": "markdown",
   "id": "1cc2460e",
   "metadata": {},
   "source": [
    "<div style=\"background-color: lightblue; color: black; padding: 10px;\">\n",
    "    <h4>Objectives:\n",
    "</h4> </div>"
   ]
  },
  {
   "cell_type": "markdown",
   "id": "8f60df34",
   "metadata": {},
   "source": [
    "The key objectives of time series analysis include:\n",
    "\n",
    "- Understanding the underlying structure of the data.\n",
    "- Identifying patterns and regularities in the data.\n",
    "- Forecasting future values based on historical data.\n",
    "- Detecting outliers or unusual behavior."
   ]
  },
  {
   "cell_type": "markdown",
   "id": "802913d7",
   "metadata": {},
   "source": [
    "<div style=\"background-color: lightblue; color: black; padding: 10px;\">\n",
    "    <h4>2. Components of Time Series\n",
    "</h4> </div>"
   ]
  },
  {
   "cell_type": "markdown",
   "id": "855e5446",
   "metadata": {},
   "source": [
    "A time series can generally be decomposed into several key components:\n",
    "\n",
    "- Trend (T): The long-term movement in the data. A trend shows the general direction of the data, either upward or downward, over a long period. For example, the sales of a company might exhibit an upward trend over several years.<br><br>\n",
    "\n",
    "- Seasonality (S): The repeating short-term cycles within the data. Seasonal patterns occur at regular intervals and are influenced by factors like time of year or holiday seasons. For instance, ice cream sales may increase during summer months.<br><br>\n",
    "\n",
    "- Cyclicality (C): Similar to seasonality, but cycles do not necessarily repeat at regular intervals. Cyclic patterns occur due to business cycles, economic factors, or other external influences.<br><br>\n",
    "\n",
    "- Noise/Irregularity (R): The random or irregular variations in the data that cannot be explained by the other components. This could be due to unpredictable factors like weather changes or sudden economic events."
   ]
  },
  {
   "cell_type": "markdown",
   "id": "852924a6",
   "metadata": {},
   "source": [
    "<div style=\"background-color: lightblue; color: black; padding: 10px;\">\n",
    "    <h4>3. Time Series Decomposition\n",
    "</h4> </div>"
   ]
  },
  {
   "cell_type": "markdown",
   "id": "74a574aa",
   "metadata": {},
   "source": [
    "Decomposition refers to the process of breaking down a time series into its constituent components (trend, seasonality, and noise). This is a crucial step in time series analysis as it helps in better understanding the behavior of the data."
   ]
  },
  {
   "cell_type": "markdown",
   "id": "9b441cc0",
   "metadata": {},
   "source": [
    "There are two main methods for decomposing time series:\n",
    "\n",
    "- Additive Decomposition: In an additive model, the time series is expressed as the sum of its components:\n",
    "\n",
    "    - Y(t) = T(t) + S(t) + R(t)\n",
    "    \n",
    "    \n",
    "- This model is useful when the magnitude of the seasonal and irregular variations does not change over time."
   ]
  },
  {
   "cell_type": "markdown",
   "id": "0758cc3c",
   "metadata": {},
   "source": [
    "- Multiplicative Decomposition: In a multiplicative model, the time series is expressed as the product of its components:\n",
    "     - Y(t) = T(t)*S(t)*R(t)\n",
    "- This model is useful when the magnitude of the seasonal and irregular variations change in proportion to the level of the trend."
   ]
  },
  {
   "cell_type": "markdown",
   "id": "6e9b50d3",
   "metadata": {},
   "source": [
    "<div style=\"background-color: lightgreen; color: black; padding: 10px;\"> <font size = 3>\n",
    "    <h4>Applications of Time Series Analysis\n",
    "</h4> </div>"
   ]
  },
  {
   "cell_type": "markdown",
   "id": "59b87189",
   "metadata": {},
   "source": [
    "Time series analysis is widely used across industries for tasks like:\n",
    "\n",
    "- Forecasting: Predicting future values, such as sales, stock prices, or weather conditions.\n",
    "- Anomaly Detection: Identifying unusual spikes or drops in data, such as fraud detection or system failure.\n",
    "- Decision Making: Informing business strategies based on historical trends and patterns."
   ]
  },
  {
   "cell_type": "markdown",
   "id": "c743efdf",
   "metadata": {},
   "source": [
    "### Algorithm:\n",
    "- ARIMA (AutoRegressive Integrated Moving Average): ARIMA models account for the trend and residual components of a time series.\n",
    "- Exponential Smoothing (ETS): ETS models emphasize the trend and seasonal components."
   ]
  },
  {
   "cell_type": "markdown",
   "id": "724181aa",
   "metadata": {},
   "source": [
    "### Model Evaluation\n",
    "- Mean Absolute Error (MAE)\n",
    "- Root Mean Squared Error (RMSE)\n",
    "- Mean Absolute Percentage Error (MAPE)"
   ]
  },
  {
   "cell_type": "code",
   "execution_count": null,
   "id": "7eb7799c",
   "metadata": {},
   "outputs": [],
   "source": []
  }
 ],
 "metadata": {
  "kernelspec": {
   "display_name": "Python 3 (ipykernel)",
   "language": "python",
   "name": "python3"
  },
  "language_info": {
   "codemirror_mode": {
    "name": "ipython",
    "version": 3
   },
   "file_extension": ".py",
   "mimetype": "text/x-python",
   "name": "python",
   "nbconvert_exporter": "python",
   "pygments_lexer": "ipython3",
   "version": "3.11.5"
  }
 },
 "nbformat": 4,
 "nbformat_minor": 5
}
